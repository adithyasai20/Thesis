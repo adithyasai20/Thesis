{
 "cells": [
  {
   "cell_type": "code",
   "execution_count": 1,
   "metadata": {},
   "outputs": [
    {
     "name": "stderr",
     "output_type": "stream",
     "text": [
      "d:\\Thesis\\venv\\lib\\site-packages\\tqdm\\auto.py:21: TqdmWarning: IProgress not found. Please update jupyter and ipywidgets. See https://ipywidgets.readthedocs.io/en/stable/user_install.html\n",
      "  from .autonotebook import tqdm as notebook_tqdm\n"
     ]
    }
   ],
   "source": [
    "import os\n",
    "import numpy as np\n",
    "\n",
    "os.environ[\"DGLBACKEND\"] = \"pytorch\"\n",
    "import dgl\n",
    "import dgl.data\n",
    "import torch\n",
    "import torch.nn as nn\n",
    "import torch.nn.functional as F"
   ]
  },
  {
   "cell_type": "code",
   "execution_count": 2,
   "metadata": {},
   "outputs": [],
   "source": [
    "\n",
    "\n",
    "from dotenv import dotenv_values\n",
    "\n",
    "SECRETS = dotenv_values(\"../envs/graphs.env\")\n",
    "\n",
    "TRAIN_DATA_PATH = SECRETS['TRAIN_DATA_PATH']\n",
    "TEST_DATA_PATH = SECRETS['TEST_DATA_PATH']\n",
    "PULL_UP_STRENGTH, PULL_DOWN_STRENGTH = list(map(int, SECRETS['BETA'].split(':')))\n",
    "NUM_SAMPLES = int(SECRETS['NUM_SAMPLES'])\n",
    "MAX_LENGTH = int(SECRETS['MAX_LENGTH'])"
   ]
  },
  {
   "cell_type": "code",
   "execution_count": 3,
   "metadata": {},
   "outputs": [
    {
     "name": "stdout",
     "output_type": "stream",
     "text": [
      "  NumNodes: 2708\n",
      "  NumEdges: 10556\n",
      "  NumFeats: 1433\n",
      "  NumClasses: 7\n",
      "  NumTrainingSamples: 140\n",
      "  NumValidationSamples: 500\n",
      "  NumTestSamples: 1000\n",
      "Done loading data from cached files.\n",
      "Number of categories: 7\n"
     ]
    }
   ],
   "source": [
    "dataset = dgl.data.CoraGraphDataset(raw_dir=TRAIN_DATA_PATH)\n",
    "print(f\"Number of categories: {dataset.num_classes}\")"
   ]
  },
  {
   "cell_type": "code",
   "execution_count": 4,
   "metadata": {},
   "outputs": [],
   "source": [
    "g = dataset[0]"
   ]
  },
  {
   "cell_type": "code",
   "execution_count": 5,
   "metadata": {},
   "outputs": [
    {
     "name": "stdout",
     "output_type": "stream",
     "text": [
      "Node features\n",
      "{'train_mask': tensor([ True,  True,  True,  ..., False, False, False]), 'label': tensor([3, 4, 4,  ..., 3, 3, 3]), 'val_mask': tensor([False, False, False,  ..., False, False, False]), 'test_mask': tensor([False, False, False,  ...,  True,  True,  True]), 'feat': tensor([[0., 0., 0.,  ..., 0., 0., 0.],\n",
      "        [0., 0., 0.,  ..., 0., 0., 0.],\n",
      "        [0., 0., 0.,  ..., 0., 0., 0.],\n",
      "        ...,\n",
      "        [0., 0., 0.,  ..., 0., 0., 0.],\n",
      "        [0., 0., 0.,  ..., 0., 0., 0.],\n",
      "        [0., 0., 0.,  ..., 0., 0., 0.]])}\n",
      "Edge features\n",
      "{}\n"
     ]
    }
   ],
   "source": [
    "print(\"Node features\")\n",
    "print(g.ndata)\n",
    "print(\"Edge features\")\n",
    "print(g.edata)"
   ]
  },
  {
   "cell_type": "code",
   "execution_count": 6,
   "metadata": {},
   "outputs": [],
   "source": [
    "from dgl.nn import GraphConv\n",
    "\n",
    "\n",
    "class GCN(nn.Module):\n",
    "    def __init__(self, in_feats, h_feats, num_classes):\n",
    "        super(GCN, self).__init__()\n",
    "        self.conv1 = GraphConv(in_feats, h_feats)\n",
    "        self.conv2 = GraphConv(h_feats, num_classes)\n",
    "\n",
    "    def forward(self, g, in_feat):\n",
    "        h = self.conv1(g, in_feat)\n",
    "        h = F.relu(h)\n",
    "        h = self.conv2(g, h)\n",
    "        return h\n",
    "\n",
    "\n",
    "# Create the model with given dimensions\n",
    "model = GCN(g.ndata[\"feat\"].shape[1], 16, dataset.num_classes)"
   ]
  },
  {
   "cell_type": "code",
   "execution_count": 7,
   "metadata": {},
   "outputs": [],
   "source": [
    "def train(g, model):\n",
    "    optimizer = torch.optim.Adam(model.parameters(), lr=0.01)\n",
    "    best_val_acc = 0\n",
    "    best_test_acc = 0\n",
    "\n",
    "    features = g.ndata[\"feat\"]\n",
    "    labels = g.ndata[\"label\"]\n",
    "    train_mask = g.ndata[\"train_mask\"]\n",
    "    val_mask = g.ndata[\"val_mask\"]\n",
    "    test_mask = g.ndata[\"test_mask\"]\n",
    "    for e in range(100):\n",
    "        # Forward\n",
    "        logits = model(g, features)\n",
    "\n",
    "        # Compute prediction\n",
    "        pred = logits.argmax(1)\n",
    "\n",
    "        # Compute loss\n",
    "        # Note that you should only compute the losses of the nodes in the training set.\n",
    "        loss = F.cross_entropy(logits[train_mask], labels[train_mask])\n",
    "\n",
    "        # Compute accuracy on training/validation/test\n",
    "        train_acc = (pred[train_mask] == labels[train_mask]).float().mean()\n",
    "        val_acc = (pred[val_mask] == labels[val_mask]).float().mean()\n",
    "        test_acc = (pred[test_mask] == labels[test_mask]).float().mean()\n",
    "\n",
    "        # Save the best validation accuracy and the corresponding test accuracy.\n",
    "        if best_val_acc < val_acc:\n",
    "            best_val_acc = val_acc\n",
    "            best_test_acc = test_acc\n",
    "\n",
    "        # Backward\n",
    "        optimizer.zero_grad()\n",
    "        loss.backward()\n",
    "        optimizer.step()\n",
    "\n",
    "        if e % 5 == 0:\n",
    "            print(\n",
    "                f\"In epoch {e}, loss: {loss:.3f}, val acc: {val_acc:.3f} (best {best_val_acc:.3f}), test acc: {test_acc:.3f} (best {best_test_acc:.3f})\"\n",
    "            )\n",
    "\n",
    "\n",
    "# model = GCN(g.ndata[\"feat\"].shape[1], 16, dataset.num_classes)\n",
    "# train(g, model)"
   ]
  },
  {
   "cell_type": "code",
   "execution_count": 8,
   "metadata": {},
   "outputs": [
    {
     "name": "stdout",
     "output_type": "stream",
     "text": [
      "In epoch 0, loss: 1.946, val acc: 0.074 (best 0.074), test acc: 0.090 (best 0.090)\n",
      "In epoch 5, loss: 1.894, val acc: 0.416 (best 0.450), test acc: 0.435 (best 0.473)\n",
      "In epoch 10, loss: 1.808, val acc: 0.368 (best 0.450), test acc: 0.403 (best 0.473)\n",
      "In epoch 15, loss: 1.698, val acc: 0.556 (best 0.556), test acc: 0.560 (best 0.560)\n",
      "In epoch 20, loss: 1.565, val acc: 0.652 (best 0.652), test acc: 0.666 (best 0.666)\n",
      "In epoch 25, loss: 1.412, val acc: 0.652 (best 0.654), test acc: 0.695 (best 0.695)\n",
      "In epoch 30, loss: 1.245, val acc: 0.692 (best 0.692), test acc: 0.718 (best 0.718)\n",
      "In epoch 35, loss: 1.071, val acc: 0.722 (best 0.722), test acc: 0.734 (best 0.734)\n",
      "In epoch 40, loss: 0.900, val acc: 0.730 (best 0.730), test acc: 0.754 (best 0.754)\n",
      "In epoch 45, loss: 0.741, val acc: 0.742 (best 0.742), test acc: 0.764 (best 0.764)\n",
      "In epoch 50, loss: 0.602, val acc: 0.750 (best 0.752), test acc: 0.769 (best 0.767)\n",
      "In epoch 55, loss: 0.484, val acc: 0.762 (best 0.762), test acc: 0.776 (best 0.776)\n",
      "In epoch 60, loss: 0.387, val acc: 0.772 (best 0.772), test acc: 0.779 (best 0.779)\n",
      "In epoch 65, loss: 0.311, val acc: 0.770 (best 0.772), test acc: 0.776 (best 0.779)\n",
      "In epoch 70, loss: 0.251, val acc: 0.776 (best 0.776), test acc: 0.777 (best 0.778)\n",
      "In epoch 75, loss: 0.204, val acc: 0.770 (best 0.776), test acc: 0.775 (best 0.778)\n",
      "In epoch 80, loss: 0.168, val acc: 0.766 (best 0.776), test acc: 0.776 (best 0.778)\n",
      "In epoch 85, loss: 0.140, val acc: 0.770 (best 0.776), test acc: 0.774 (best 0.778)\n",
      "In epoch 90, loss: 0.118, val acc: 0.770 (best 0.776), test acc: 0.777 (best 0.778)\n",
      "In epoch 95, loss: 0.100, val acc: 0.774 (best 0.776), test acc: 0.774 (best 0.778)\n"
     ]
    }
   ],
   "source": [
    "# g = g.to('cuda')\n",
    "model = GCN(g.ndata['feat'].shape[1], 16, dataset.num_classes)\n",
    "train(g, model)"
   ]
  },
  {
   "cell_type": "code",
   "execution_count": 9,
   "metadata": {},
   "outputs": [],
   "source": [
    "train_data = [ (np.load(TRAIN_DATA_PATH + f\"/train_data/circuit{i}.npz\")['adj_list'],  np.load(TRAIN_DATA_PATH + f\"/train_data/circuit{i}.npz\")['feature_matrix']) for i in range(1, 1000+1) ]"
   ]
  },
  {
   "cell_type": "code",
   "execution_count": 10,
   "metadata": {},
   "outputs": [
    {
     "data": {
      "text/plain": [
       "((2, 15), (16, 5))"
      ]
     },
     "execution_count": 10,
     "metadata": {},
     "output_type": "execute_result"
    }
   ],
   "source": [
    "train_data[0][0].shape, train_data[0][1].shape"
   ]
  },
  {
   "cell_type": "code",
   "execution_count": 19,
   "metadata": {},
   "outputs": [],
   "source": [
    "g = dgl.graph((train_data[0][0][0], train_data[0][0][1]))\n",
    "g.ndata['x'] = torch.tensor(train_data[0][1], dtype=torch.float32)"
   ]
  },
  {
   "cell_type": "code",
   "execution_count": 20,
   "metadata": {},
   "outputs": [
    {
     "data": {
      "text/plain": [
       "Graph(num_nodes=16, num_edges=15,\n",
       "      ndata_schemes={'x': Scheme(shape=(5,), dtype=torch.float32)}\n",
       "      edata_schemes={})"
      ]
     },
     "execution_count": 20,
     "metadata": {},
     "output_type": "execute_result"
    }
   ],
   "source": [
    "g"
   ]
  },
  {
   "cell_type": "code",
   "execution_count": 16,
   "metadata": {},
   "outputs": [
    {
     "data": {
      "text/plain": [
       "array([ 1,  2,  3,  4,  5,  6,  7,  8,  9, 10, 11, 12, 13, 14, 15])"
      ]
     },
     "execution_count": 16,
     "metadata": {},
     "output_type": "execute_result"
    }
   ],
   "source": [
    "train_data[0][0][1]"
   ]
  },
  {
   "cell_type": "code",
   "execution_count": 24,
   "metadata": {},
   "outputs": [
    {
     "data": {
      "text/plain": [
       "tensor([[ 0.,  0., 22., 43., 22.],\n",
       "        [ 1.,  4., 22., 43.,  1.],\n",
       "        [ 2.,  4., 22., 43.,  2.],\n",
       "        [ 3.,  0., 22., 43., 47.],\n",
       "        [ 4.,  3., 22., 43., 36.],\n",
       "        [ 5.,  2., 22., 43.,  4.],\n",
       "        [ 6.,  2., 22., 43., 27.],\n",
       "        [ 7.,  1., 22., 43., 30.],\n",
       "        [ 8.,  3., 22., 43., 46.],\n",
       "        [ 9.,  0., 22., 43., 14.],\n",
       "        [10.,  4., 22., 43., 19.],\n",
       "        [11.,  1., 22., 43., 16.],\n",
       "        [12.,  4., 22., 43., 29.],\n",
       "        [13.,  0., 22., 43., 30.],\n",
       "        [14.,  1., 22., 43., 20.],\n",
       "        [15.,  1., 22., 43., 20.]])"
      ]
     },
     "execution_count": 24,
     "metadata": {},
     "output_type": "execute_result"
    }
   ],
   "source": [
    "g.ndata['x']"
   ]
  },
  {
   "cell_type": "code",
   "execution_count": null,
   "metadata": {},
   "outputs": [],
   "source": []
  }
 ],
 "metadata": {
  "kernelspec": {
   "display_name": "venv",
   "language": "python",
   "name": "python3"
  },
  "language_info": {
   "codemirror_mode": {
    "name": "ipython",
    "version": 3
   },
   "file_extension": ".py",
   "mimetype": "text/x-python",
   "name": "python",
   "nbconvert_exporter": "python",
   "pygments_lexer": "ipython3",
   "version": "3.9.7"
  }
 },
 "nbformat": 4,
 "nbformat_minor": 2
}
