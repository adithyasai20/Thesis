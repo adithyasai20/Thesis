{
 "cells": [
  {
   "cell_type": "code",
   "execution_count": 1,
   "metadata": {},
   "outputs": [],
   "source": [
    "import torch\n",
    "import torch.nn as nn\n",
    "import torch.nn.functional as F\n",
    "import torch.optim as optim\n",
    "import numpy as np\n",
    "import random\n",
    "import time\n",
    "import os\n",
    "import sys\n",
    "import argparse\n",
    "import matplotlib.pyplot as plt\n",
    "from torch_geometric.data import Data\n"
   ]
  },
  {
   "cell_type": "code",
   "execution_count": 2,
   "metadata": {},
   "outputs": [],
   "source": [
    "\n",
    "\n",
    "from dotenv import dotenv_values\n",
    "\n",
    "SECRETS = dotenv_values(\"../envs/graphs.env\")\n",
    "\n",
    "TRAIN_DATA_PATH = SECRETS['TRAIN_DATA_PATH']\n",
    "TEST_DATA_PATH = SECRETS['TEST_DATA_PATH']\n",
    "PULL_UP_STRENGTH, PULL_DOWN_STRENGTH = list(map(int, SECRETS['BETA'].split(':')))\n",
    "NUM_SAMPLES = int(SECRETS['NUM_SAMPLES'])\n",
    "MAX_LENGTH = int(SECRETS['MAX_LENGTH'])"
   ]
  },
  {
   "cell_type": "code",
   "execution_count": 5,
   "metadata": {},
   "outputs": [
    {
     "data": {
      "text/plain": [
       "('24,310,265.924565215', '10,680,000.0')"
      ]
     },
     "execution_count": 5,
     "metadata": {},
     "output_type": "execute_result"
    }
   ],
   "source": [
    "def SIP_Amount(N:int, r:float, a:float, k:int):\n",
    "    val = np.sum([( min(k*(1+a*(i//12)), 25000000) ) *((1+r/12)**(N*12-i)) for i in range (N*12+1)])    \n",
    "    invested = np.sum([min(k*(1+a*(i//12)), 25000000) for i in range (N*12+1)])\n",
    "    # val = np.sum([(k*(1+a*(i//12)) ) *((1+r/12)**(N*12-i)) for i in range (N*12+1)])\n",
    "    # invested = np.sum([k*(1+a*(i//12)) for i in range (N*12+1)])\n",
    "    return f\"{val:,}\", f\"{invested:,}\"\n",
    "\n",
    "SIP_Amount(N=20, r=0.081, a=0.05, k=30000)"
   ]
  },
  {
   "cell_type": "code",
   "execution_count": 4,
   "metadata": {},
   "outputs": [],
   "source": [
    "data = np.load(TRAIN_DATA_PATH+f\"/train_data/circuit{1}.npz\")"
   ]
  },
  {
   "cell_type": "code",
   "execution_count": 5,
   "metadata": {},
   "outputs": [],
   "source": [
    "train_data = [ (np.load(TRAIN_DATA_PATH + f\"/train_data/circuit{i}.npz\")['adj_list'],  np.load(TRAIN_DATA_PATH + f\"/train_data/circuit{i}.npz\")['feature_matrix']) for i in range(1, 1000+1) ]"
   ]
  },
  {
   "cell_type": "code",
   "execution_count": null,
   "metadata": {},
   "outputs": [],
   "source": []
  },
  {
   "cell_type": "code",
   "execution_count": null,
   "metadata": {},
   "outputs": [],
   "source": []
  },
  {
   "cell_type": "code",
   "execution_count": null,
   "metadata": {},
   "outputs": [],
   "source": []
  },
  {
   "cell_type": "code",
   "execution_count": null,
   "metadata": {},
   "outputs": [],
   "source": []
  },
  {
   "cell_type": "code",
   "execution_count": null,
   "metadata": {},
   "outputs": [],
   "source": []
  },
  {
   "cell_type": "code",
   "execution_count": null,
   "metadata": {},
   "outputs": [],
   "source": []
  },
  {
   "cell_type": "code",
   "execution_count": null,
   "metadata": {},
   "outputs": [],
   "source": []
  },
  {
   "cell_type": "code",
   "execution_count": null,
   "metadata": {},
   "outputs": [],
   "source": []
  },
  {
   "cell_type": "code",
   "execution_count": null,
   "metadata": {},
   "outputs": [],
   "source": []
  },
  {
   "cell_type": "code",
   "execution_count": null,
   "metadata": {},
   "outputs": [],
   "source": []
  },
  {
   "cell_type": "code",
   "execution_count": null,
   "metadata": {},
   "outputs": [],
   "source": []
  }
 ],
 "metadata": {
  "kernelspec": {
   "display_name": "venv",
   "language": "python",
   "name": "python3"
  },
  "language_info": {
   "codemirror_mode": {
    "name": "ipython",
    "version": 3
   },
   "file_extension": ".py",
   "mimetype": "text/x-python",
   "name": "python",
   "nbconvert_exporter": "python",
   "pygments_lexer": "ipython3",
   "version": "3.9.7"
  }
 },
 "nbformat": 4,
 "nbformat_minor": 2
}
