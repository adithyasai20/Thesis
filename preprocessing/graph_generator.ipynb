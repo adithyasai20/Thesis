{
 "cells": [
  {
   "cell_type": "code",
   "execution_count": 1,
   "metadata": {},
   "outputs": [],
   "source": [
    "# Import statements\n",
    "# %run startup.py\n",
    "import numpy as np\n",
    "\n",
    "from package.simulation.simulation import Simulation\n",
    "from package.simulation.graph import Graph\n",
    "from package.circuit.circuit import Circuit\n",
    "\n",
    "\n",
    "from dotenv import dotenv_values\n",
    "\n",
    "SECRETS = dotenv_values(\"../envs/graphs.env\")\n",
    "\n",
    "TRAIN_DATA_PATH = SECRETS['TRAIN_DATA_PATH']\n",
    "TEST_DATA_PATH = SECRETS['TEST_DATA_PATH']\n",
    "PULL_UP_STRENGTH, PULL_DOWN_STRENGTH = list(map(int, SECRETS['BETA'].split(':')))\n",
    "NUM_SAMPLES = int(SECRETS['NUM_SAMPLES'])\n",
    "MAX_LENGTH = int(SECRETS['MAX_LENGTH'])"
   ]
  },
  {
   "cell_type": "code",
   "execution_count": 2,
   "metadata": {},
   "outputs": [
    {
     "data": {
      "text/plain": [
       "['3nand_generator.ipynb',\n",
       " '3nand_visualizer.ipynb',\n",
       " 'app.py',\n",
       " 'data_generator.ipynb',\n",
       " 'graphmaker.ipynb',\n",
       " 'graph_generator.ipynb',\n",
       " 'package',\n",
       " 'startup.py',\n",
       " 'visualize.ipynb']"
      ]
     },
     "execution_count": 2,
     "metadata": {},
     "output_type": "execute_result"
    }
   ],
   "source": [
    "import os\n",
    "os.listdir()"
   ]
  },
  {
   "cell_type": "code",
   "execution_count": 3,
   "metadata": {},
   "outputs": [
    {
     "data": {
      "text/plain": [
       "'\\nWhat I want to do?\\nI want to make many circuits into one simulation object such that in each circuit, it is a single chain of gates.\\nThe chain starts with appropriate number of drivers and the chain ends with one EOS node.\\nFor that I will first make a graph object which will first make a chain of random number of gate ssized randomly.\\n'"
      ]
     },
     "execution_count": 3,
     "metadata": {},
     "output_type": "execute_result"
    }
   ],
   "source": [
    "gates = [\"2NAND\", \"1NOT\", \"2NOR\"]\n",
    "\"\"\"\n",
    "What I want to do?\n",
    "I want to make many circuits into one simulation object such that in each circuit, it is a single chain of gates.\n",
    "The chain starts with appropriate number of drivers and the chain ends with one EOS node.\n",
    "For that I will first make a graph object which will first make a chain of random number of gate ssized randomly.\n",
    "\"\"\""
   ]
  },
  {
   "cell_type": "code",
   "execution_count": 4,
   "metadata": {},
   "outputs": [],
   "source": [
    "\n",
    "# class Graph:\n",
    "#     GATE_CHOICES = [\"2NAND\", \"1NOT\", \"2NOR\"]\n",
    "#     INVERTING_GATES = [\"1NOT\", \"2NAND\", \"2NOR\"]\n",
    "#     NON_INVERTING_GATES = [\"2AND\", \"2OR\"]\n",
    "#     def __init__(self, name, max_num_of_gates = 20, max_sizing = 50):\n",
    "#         self.name = name\n",
    "#         self.max_num_of_gates = np.random.randint(10, max_num_of_gates)\n",
    "#         self.max_sizing = max_sizing\n",
    "#         self.circuit = self.__make_circuit()\n",
    "\n",
    "#     def __make_circuit(self):\n",
    "#         self.gate_list = list(np.random.choice(self.GATE_CHOICES, self.max_num_of_gates))\n",
    "#         self.gate_sizes = np.random.randint(1, self.max_sizing, self.max_num_of_gates)\n",
    "#         self.drivers = [f\"v{i+1}\" for i in range(int(self.gate_list[0][0]))]\n",
    "#         self.driver_sizes = np.random.randint(1, self.max_sizing, len(self.drivers))\n",
    "\n",
    "#         gate_dict, driver_dict, eos_dict = {}, {}, {}\n",
    "#         for i in range(len(self.gate_list)):\n",
    "#             gate_dict[f\"gate{i+1}\"] = {\"type\":self.gate_list[i], \"k\":int(self.gate_sizes[i]), \"input_components\" : [f\"gate{i}\" for _ in range(int(self.gate_list[i][0]))] if i > 0 else self.drivers}\n",
    "#         for i in range(len(self.drivers)):\n",
    "#             driver_dict[f\"v{i+1}\"] = {\"ideal\":False, \"k\":int(self.driver_sizes[i])}\n",
    "#         eos_dict[\"k\"] = np.random.randint(1, self.max_sizing)\n",
    "#         eos_dict[\"input_gate\"] = f\"gate{len(self.gate_list)}\"\n",
    "#         eos_dict[\"capacitance\"] = 10\n",
    "#         # count number of invering gates in gate list\n",
    "#         self.num_inverting_gates = len([gate for gate in self.gate_list if gate in self.INVERTING_GATES])\n",
    "#         inverting = True if self.num_inverting_gates % 2  else False\n",
    "        \n",
    "#         self.circuit = Circuit(self.name, gate_dict, driver_dict, eos_dict, inverting)\n",
    "#         return self.circuit\n",
    "\n",
    "#     def __repr__(self):\n",
    "#         return f\"{self.name}: {self.circuit}\"\n"
   ]
  },
  {
   "cell_type": "code",
   "execution_count": null,
   "metadata": {},
   "outputs": [],
   "source": []
  },
  {
   "cell_type": "code",
   "execution_count": 5,
   "metadata": {},
   "outputs": [],
   "source": [
    "graphs = [Graph(f\"circuit{i}\", MAX_LENGTH, 50) for i in range(1, 1000+1)]\n",
    "simulation = Simulation(\"datasetgenerator\", [graph.circuit for graph in graphs])\n",
    "simulation.save(TEST_DATA_PATH+f\"/{simulation.name}.sp\")"
   ]
  },
  {
   "cell_type": "code",
   "execution_count": 6,
   "metadata": {},
   "outputs": [],
   "source": [
    "# for graph in graphs:\n",
    "#     graph.save_graph_matrices(TRAIN_DATA_PATH+f\"/train_data/{graph.name}.npz\")\n",
    "\n",
    "# graphs[0].save_graph_matrices(TRAIN_DATA_PATH+f\"/train_data/{graphs[0].name}.npz\")"
   ]
  },
  {
   "cell_type": "code",
   "execution_count": 7,
   "metadata": {},
   "outputs": [],
   "source": [
    "for graph in graphs:\n",
    "    graph.save_adjacency_list_and_feature_matrix(TRAIN_DATA_PATH+f\"/train_data/{graph.name}.npz\")"
   ]
  },
  {
   "cell_type": "code",
   "execution_count": 8,
   "metadata": {},
   "outputs": [
    {
     "data": {
      "text/plain": [
       "(array([[ 0.,  1.,  0.,  0.,  0.,  0.,  0.,  0.,  0.,  0.,  0.,  0.,  0.,\n",
       "          0.,  0.,  0.,  0.],\n",
       "        [-1.,  0.,  1.,  0.,  0.,  0.,  0.,  0.,  0.,  0.,  0.,  0.,  0.,\n",
       "          0.,  0.,  0.,  0.],\n",
       "        [ 0., -1.,  0.,  1.,  0.,  0.,  0.,  0.,  0.,  0.,  0.,  0.,  0.,\n",
       "          0.,  0.,  0.,  0.],\n",
       "        [ 0.,  0., -1.,  0.,  1.,  0.,  0.,  0.,  0.,  0.,  0.,  0.,  0.,\n",
       "          0.,  0.,  0.,  0.],\n",
       "        [ 0.,  0.,  0., -1.,  0.,  1.,  0.,  0.,  0.,  0.,  0.,  0.,  0.,\n",
       "          0.,  0.,  0.,  0.],\n",
       "        [ 0.,  0.,  0.,  0., -1.,  0.,  1.,  0.,  0.,  0.,  0.,  0.,  0.,\n",
       "          0.,  0.,  0.,  0.],\n",
       "        [ 0.,  0.,  0.,  0.,  0., -1.,  0.,  1.,  0.,  0.,  0.,  0.,  0.,\n",
       "          0.,  0.,  0.,  0.],\n",
       "        [ 0.,  0.,  0.,  0.,  0.,  0., -1.,  0.,  1.,  0.,  0.,  0.,  0.,\n",
       "          0.,  0.,  0.,  0.],\n",
       "        [ 0.,  0.,  0.,  0.,  0.,  0.,  0., -1.,  0.,  1.,  0.,  0.,  0.,\n",
       "          0.,  0.,  0.,  0.],\n",
       "        [ 0.,  0.,  0.,  0.,  0.,  0.,  0.,  0., -1.,  0.,  1.,  0.,  0.,\n",
       "          0.,  0.,  0.,  0.],\n",
       "        [ 0.,  0.,  0.,  0.,  0.,  0.,  0.,  0.,  0., -1.,  0.,  1.,  0.,\n",
       "          0.,  0.,  0.,  0.],\n",
       "        [ 0.,  0.,  0.,  0.,  0.,  0.,  0.,  0.,  0.,  0., -1.,  0.,  1.,\n",
       "          0.,  0.,  0.,  0.],\n",
       "        [ 0.,  0.,  0.,  0.,  0.,  0.,  0.,  0.,  0.,  0.,  0., -1.,  0.,\n",
       "          1.,  0.,  0.,  0.],\n",
       "        [ 0.,  0.,  0.,  0.,  0.,  0.,  0.,  0.,  0.,  0.,  0.,  0., -1.,\n",
       "          0.,  1.,  0.,  0.],\n",
       "        [ 0.,  0.,  0.,  0.,  0.,  0.,  0.,  0.,  0.,  0.,  0.,  0.,  0.,\n",
       "         -1.,  0.,  1.,  0.],\n",
       "        [ 0.,  0.,  0.,  0.,  0.,  0.,  0.,  0.,  0.,  0.,  0.,  0.,  0.,\n",
       "          0., -1.,  0.,  1.],\n",
       "        [ 0.,  0.,  0.,  0.,  0.,  0.,  0.,  0.,  0.,  0.,  0.,  0.,  0.,\n",
       "          0.,  0., -1.,  0.]]),\n",
       " array([[ 0.,  2., 11., 42., 11.],\n",
       "        [ 1.,  1., 11., 42., 47.],\n",
       "        [ 2.,  0., 11., 42., 19.],\n",
       "        [ 3.,  4., 11., 42., 49.],\n",
       "        [ 4.,  1., 11., 42., 28.],\n",
       "        [ 5.,  2., 11., 42., 34.],\n",
       "        [ 6.,  1., 11., 42., 42.],\n",
       "        [ 7.,  2., 11., 42., 25.],\n",
       "        [ 8.,  2., 11., 42., 22.],\n",
       "        [ 9.,  4., 11., 42., 20.],\n",
       "        [10.,  1., 11., 42., 47.],\n",
       "        [11.,  0., 11., 42., 28.],\n",
       "        [12.,  1., 11., 42., 47.],\n",
       "        [13.,  3., 11., 42.,  3.],\n",
       "        [14.,  2., 11., 42.,  9.],\n",
       "        [15.,  4., 11., 42., 11.],\n",
       "        [16.,  1., 11., 42., 32.]]))"
      ]
     },
     "execution_count": 8,
     "metadata": {},
     "output_type": "execute_result"
    }
   ],
   "source": [
    "g = Graph(\"circuit1\", 25, 50)\n",
    "g.make_graph_matrices()"
   ]
  },
  {
   "cell_type": "code",
   "execution_count": 9,
   "metadata": {},
   "outputs": [
    {
     "data": {
      "text/plain": [
       "(array([[ 0,  1,  2,  3,  4,  5,  6,  7,  8,  9, 10, 11, 12, 13, 14, 15],\n",
       "        [ 1,  2,  3,  4,  5,  6,  7,  8,  9, 10, 11, 12, 13, 14, 15, 16]]),\n",
       " array([[ 0.,  2., 11., 42., 11.],\n",
       "        [ 1.,  1., 11., 42., 47.],\n",
       "        [ 2.,  0., 11., 42., 19.],\n",
       "        [ 3.,  4., 11., 42., 49.],\n",
       "        [ 4.,  1., 11., 42., 28.],\n",
       "        [ 5.,  2., 11., 42., 34.],\n",
       "        [ 6.,  1., 11., 42., 42.],\n",
       "        [ 7.,  2., 11., 42., 25.],\n",
       "        [ 8.,  2., 11., 42., 22.],\n",
       "        [ 9.,  4., 11., 42., 20.],\n",
       "        [10.,  1., 11., 42., 47.],\n",
       "        [11.,  0., 11., 42., 28.],\n",
       "        [12.,  1., 11., 42., 47.],\n",
       "        [13.,  3., 11., 42.,  3.],\n",
       "        [14.,  2., 11., 42.,  9.],\n",
       "        [15.,  4., 11., 42., 11.],\n",
       "        [16.,  1., 11., 42., 32.]]))"
      ]
     },
     "execution_count": 9,
     "metadata": {},
     "output_type": "execute_result"
    }
   ],
   "source": [
    "g.make_adjacency_list_and_feature_matrix()"
   ]
  },
  {
   "cell_type": "code",
   "execution_count": 10,
   "metadata": {},
   "outputs": [],
   "source": [
    "train_data = [ (np.load(TRAIN_DATA_PATH + f\"/train_data/circuit{i}.npz\")['adj_list'],  np.load(TRAIN_DATA_PATH + f\"/train_data/circuit{i}.npz\")['feature_matrix']) for i in range(1, 1000+1) ]"
   ]
  },
  {
   "cell_type": "code",
   "execution_count": 11,
   "metadata": {},
   "outputs": [
    {
     "data": {
      "text/plain": [
       "((2, 17), (18, 5))"
      ]
     },
     "execution_count": 11,
     "metadata": {},
     "output_type": "execute_result"
    }
   ],
   "source": [
    "i = 10\n",
    "train_data[i][0].shape, train_data[i][1].shape"
   ]
  },
  {
   "cell_type": "code",
   "execution_count": 12,
   "metadata": {},
   "outputs": [
    {
     "data": {
      "text/plain": [
       "array([[ 0,  1,  2,  3,  4,  5,  6,  7,  8,  9, 10, 11, 12, 13, 14, 15,\n",
       "        16],\n",
       "       [ 1,  2,  3,  4,  5,  6,  7,  8,  9, 10, 11, 12, 13, 14, 15, 16,\n",
       "        17]])"
      ]
     },
     "execution_count": 12,
     "metadata": {},
     "output_type": "execute_result"
    }
   ],
   "source": [
    "train_data[i][0]"
   ]
  },
  {
   "cell_type": "code",
   "execution_count": null,
   "metadata": {},
   "outputs": [],
   "source": []
  }
 ],
 "metadata": {
  "kernelspec": {
   "display_name": "venv",
   "language": "python",
   "name": "python3"
  },
  "language_info": {
   "codemirror_mode": {
    "name": "ipython",
    "version": 3
   },
   "file_extension": ".py",
   "mimetype": "text/x-python",
   "name": "python",
   "nbconvert_exporter": "python",
   "pygments_lexer": "ipython3",
   "version": "3.9.7"
  }
 },
 "nbformat": 4,
 "nbformat_minor": 2
}
