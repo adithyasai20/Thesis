{
 "cells": [
  {
   "cell_type": "code",
   "execution_count": 1,
   "metadata": {},
   "outputs": [],
   "source": [
    "# Import statements\n",
    "# %run startup.py\n",
    "import numpy as np\n",
    "\n",
    "from package.simulation.simulation import Simulation\n",
    "from package.simulation.graph import Graph\n",
    "from package.circuit.circuit import Circuit\n",
    "\n",
    "\n",
    "from dotenv import dotenv_values\n",
    "\n",
    "SECRETS = dotenv_values(\"../envs/graphs.env\")\n",
    "\n",
    "TRAIN_DATA_PATH = SECRETS['TRAIN_DATA_PATH']\n",
    "TEST_DATA_PATH = SECRETS['TEST_DATA_PATH']\n",
    "PULL_UP_STRENGTH, PULL_DOWN_STRENGTH = list(map(int, SECRETS['BETA'].split(':')))\n",
    "NUM_SAMPLES = int(SECRETS['NUM_SAMPLES'])\n",
    "MAX_LENGTH = int(SECRETS['MAX_LENGTH'])"
   ]
  },
  {
   "cell_type": "code",
   "execution_count": 2,
   "metadata": {},
   "outputs": [
    {
     "data": {
      "text/plain": [
       "['3nand_generator.ipynb',\n",
       " '3nand_visualizer.ipynb',\n",
       " 'app.py',\n",
       " 'data_generator.ipynb',\n",
       " 'graphmaker.ipynb',\n",
       " 'graph_generator.ipynb',\n",
       " 'package',\n",
       " 'startup.py',\n",
       " 'visualize.ipynb']"
      ]
     },
     "execution_count": 2,
     "metadata": {},
     "output_type": "execute_result"
    }
   ],
   "source": [
    "import os\n",
    "os.listdir()"
   ]
  },
  {
   "cell_type": "code",
   "execution_count": 3,
   "metadata": {},
   "outputs": [
    {
     "data": {
      "text/plain": [
       "'\\nWhat I want to do?\\nI want to make many circuits into one simulation object such that in each circuit, it is a single chain of gates.\\nThe chain starts with appropriate number of drivers and the chain ends with one EOS node.\\nFor that I will first make a graph object which will first make a chain of random number of gate ssized randomly.\\n'"
      ]
     },
     "execution_count": 3,
     "metadata": {},
     "output_type": "execute_result"
    }
   ],
   "source": [
    "gates = [\"2NAND\", \"1NOT\", \"2NOR\"]\n",
    "\"\"\"\n",
    "What I want to do?\n",
    "I want to make many circuits into one simulation object such that in each circuit, it is a single chain of gates.\n",
    "The chain starts with appropriate number of drivers and the chain ends with one EOS node.\n",
    "For that I will first make a graph object which will first make a chain of random number of gate ssized randomly.\n",
    "\"\"\""
   ]
  },
  {
   "cell_type": "code",
   "execution_count": 4,
   "metadata": {},
   "outputs": [],
   "source": [
    "\n",
    "# class Graph:\n",
    "#     GATE_CHOICES = [\"2NAND\", \"1NOT\", \"2NOR\"]\n",
    "#     INVERTING_GATES = [\"1NOT\", \"2NAND\", \"2NOR\"]\n",
    "#     NON_INVERTING_GATES = [\"2AND\", \"2OR\"]\n",
    "#     def __init__(self, name, max_num_of_gates = 20, max_sizing = 50):\n",
    "#         self.name = name\n",
    "#         self.max_num_of_gates = np.random.randint(10, max_num_of_gates)\n",
    "#         self.max_sizing = max_sizing\n",
    "#         self.circuit = self.__make_circuit()\n",
    "\n",
    "#     def __make_circuit(self):\n",
    "#         self.gate_list = list(np.random.choice(self.GATE_CHOICES, self.max_num_of_gates))\n",
    "#         self.gate_sizes = np.random.randint(1, self.max_sizing, self.max_num_of_gates)\n",
    "#         self.drivers = [f\"v{i+1}\" for i in range(int(self.gate_list[0][0]))]\n",
    "#         self.driver_sizes = np.random.randint(1, self.max_sizing, len(self.drivers))\n",
    "\n",
    "#         gate_dict, driver_dict, eos_dict = {}, {}, {}\n",
    "#         for i in range(len(self.gate_list)):\n",
    "#             gate_dict[f\"gate{i+1}\"] = {\"type\":self.gate_list[i], \"k\":int(self.gate_sizes[i]), \"input_components\" : [f\"gate{i}\" for _ in range(int(self.gate_list[i][0]))] if i > 0 else self.drivers}\n",
    "#         for i in range(len(self.drivers)):\n",
    "#             driver_dict[f\"v{i+1}\"] = {\"ideal\":False, \"k\":int(self.driver_sizes[i])}\n",
    "#         eos_dict[\"k\"] = np.random.randint(1, self.max_sizing)\n",
    "#         eos_dict[\"input_gate\"] = f\"gate{len(self.gate_list)}\"\n",
    "#         eos_dict[\"capacitance\"] = 10\n",
    "#         # count number of invering gates in gate list\n",
    "#         self.num_inverting_gates = len([gate for gate in self.gate_list if gate in self.INVERTING_GATES])\n",
    "#         inverting = True if self.num_inverting_gates % 2  else False\n",
    "        \n",
    "#         self.circuit = Circuit(self.name, gate_dict, driver_dict, eos_dict, inverting)\n",
    "#         return self.circuit\n",
    "\n",
    "#     def __repr__(self):\n",
    "#         return f\"{self.name}: {self.circuit}\"\n"
   ]
  },
  {
   "cell_type": "code",
   "execution_count": null,
   "metadata": {},
   "outputs": [],
   "source": []
  },
  {
   "cell_type": "code",
   "execution_count": 5,
   "metadata": {},
   "outputs": [],
   "source": [
    "graphs = [Graph(f\"circuit{i}\", MAX_LENGTH, 50) for i in range(1, 1000+1)]\n",
    "simulation = Simulation(\"datasetgenerator\", [graph.circuit for graph in graphs])\n",
    "# simulation.save(TEST_DATA_PATH+f\"/{simulation.name}.sp\")"
   ]
  },
  {
   "cell_type": "code",
   "execution_count": 7,
   "metadata": {},
   "outputs": [
    {
     "data": {
      "text/plain": [
       "/////////////////////3 STAGE NAND/////////////////////////////\n",
       ".inc \"/home/lalithsai20/EMDproject/7nm_TT_160803.pm\"\n",
       "\n",
       "V1CIRCUIT1 v1circuit1 0 pwl(0 0.7 0.9999us 0.7 1us 0 2us 0)\n",
       "Mv1circuit1driverm0 out_v1circuit1driver v1circuit1 vdd vdd pmos_lvt nfin = 66\n",
       "Mv1circuit1driverm1 out_v1circuit1driver v1circuit1 0 0 nmos_lvt nfin = 44\n",
       "\n",
       "V2CIRCUIT1 v2circuit1 0 pwl(0 0.7 0.9999us 0.7 1us 0 2us 0)\n",
       "Mv2circuit1driverm0 out_v2circuit1driver v2circuit1 vdd vdd pmos_lvt nfin = 21\n",
       "Mv2circuit1driverm1 out_v2circuit1driver v2circuit1 0 0 nmos_lvt nfin = 14\n",
       "\n",
       "Mgate1circuit1m0 out_gate1circuit1intermediate out_v1circuit1driver vdd vdd pmos_lvt nfin = 120\n",
       "Mgate1circuit1m1 out_gate1circuit1intermediate out_v2circuit1driver vdd vdd pmos_lvt nfin = 120\n",
       "Mgate1circuit1m2 out_gate1circuit1intermediate out_v1circuit1driver gate1circuit1mid 0 nmos_lvt nfin = 160\n",
       "Mgate1circuit1m3 gate1circuit1mid out_v2circuit1driver 0 0 nmos_lvt nfin = 160\n",
       "Mgate1circuit1m4 out_gate1circuit1 out_gate1circuit1intermediate 0 0 nmos_lvt nfin = 80\n",
       "Mgate1circuit1m5 out_gate1circuit1 out_gate1circuit1intermediate vdd vdd pmos_lvt nfin = 120\n",
       "\n",
       "Mgate2circuit1m0 out_gate2circuit1 out_gate1circuit1 vdd vdd pmos_lvt nfin = 81\n",
       "Mgate2circuit1m1 out_gate2circuit1 out_gate1circuit1 vdd vdd pmos_lvt nfin = 81\n",
       "Mgate2circuit1m2 out_gate2circuit1 out_gate1circuit1 gate2circuit1mid 0 nmos_lvt nfin = 108\n",
       "Mgate2circuit1m3 gate2circuit1mid out_gate1circuit1 0 0 nmos_lvt nfin = 108\n",
       "\n",
       "Mgate3circuit1m0 out_gate3circuit1 out_gate2circuit1 vdd vdd pmos_lvt nfin = 30\n",
       "Mgate3circuit1m1 out_gate3circuit1 out_gate2circuit1 vdd vdd pmos_lvt nfin = 30\n",
       "Mgate3circuit1m2 out_gate3circuit1 out_gate2circuit1 gate3circuit1mid 0 nmos_lvt nfin = 40\n",
       "Mgate3circuit1m3 gate3circuit1mid out_gate2circuit1 0 0 nmos_lvt nfin = 40\n",
       "\n",
       "Mgate4circuit1m0 out_gate4circuit1intermediate out_gate3circuit1 gate4circuit1mid vdd pmos_lvt nfin = 72\n",
       "Mgate4circuit1m1 gate4circuit1mid out_gate3circuit1 vdd vdd pmos_lvt nfin = 72\n",
       "Mgate4circuit1m2 out_gate4circuit1intermediate out_gate3circuit1 0 0 nmos_lvt nfin = 24\n",
       "Mgate4circuit1m3 out_gate4circuit1intermediate out_gate3circuit1 0 0 nmos_lvt nfin = 24\n",
       "Mgate4circuit1m4 out_gate4circuit1 out_gate4circuit1intermediate 0 0 nmos_lvt nfin = 24\n",
       "Mgate4circuit1m5 out_gate4circuit1 out_gate4circuit1intermediate vdd vdd pmos_lvt nfin = 36\n",
       "\n",
       "Mgate5circuit1m0 out_gate5circuit1 out_gate4circuit1 vdd vdd pmos_lvt nfin = 63\n",
       "Mgate5circuit1m1 out_gate5circuit1 out_gate4circuit1 0 0 nmos_lvt nfin = 42\n",
       "\n",
       "Mgate6circuit1m0 out_gate6circuit1 out_gate5circuit1 vdd vdd pmos_lvt nfin = 108\n",
       "Mgate6circuit1m1 out_gate6circuit1 out_gate5circuit1 0 0 nmos_lvt nfin = 72\n",
       "\n",
       "Mgate7circuit1m0 out_gate7circuit1intermediate out_gate6circuit1 gate7circuit1mid vdd pmos_lvt nfin = 186\n",
       "Mgate7circuit1m1 gate7circuit1mid out_gate6circuit1 vdd vdd pmos_lvt nfin = 186\n",
       "Mgate7circuit1m2 out_gate7circuit1intermediate out_gate6circuit1 0 0 nmos_lvt nfin = 62\n",
       "Mgate7circuit1m3 out_gate7circuit1intermediate out_gate6circuit1 0 0 nmos_lvt nfin = 62\n",
       "Mgate7circuit1m4 out_gate7circuit1 out_gate7circuit1intermediate 0 0 nmos_lvt nfin = 62\n",
       "Mgate7circuit1m5 out_gate7circuit1 out_gate7circuit1intermediate vdd vdd pmos_lvt nfin = 93\n",
       "\n",
       "Mgate8circuit1m0 out_gate8circuit1intermediate out_gate7circuit1 vdd vdd pmos_lvt nfin = 126\n",
       "Mgate8circuit1m1 out_gate8circuit1intermediate out_gate7circuit1 vdd vdd pmos_lvt nfin = 126\n",
       "Mgate8circuit1m2 out_gate8circuit1intermediate out_gate7circuit1 gate8circuit1mid 0 nmos_lvt nfin = 168\n",
       "Mgate8circuit1m3 gate8circuit1mid out_gate7circuit1 0 0 nmos_lvt nfin = 168\n",
       "Mgate8circuit1m4 out_gate8circuit1 out_gate8circuit1intermediate 0 0 nmos_lvt nfin = 84\n",
       "Mgate8circuit1m5 out_gate8circuit1 out_gate8circuit1intermediate vdd vdd pmos_lvt nfin = 126\n",
       "\n",
       "Mgate9circuit1m0 out_gate9circuit1intermediate out_gate8circuit1 gate9circuit1mid vdd pmos_lvt nfin = 288\n",
       "Mgate9circuit1m1 gate9circuit1mid out_gate8circuit1 vdd vdd pmos_lvt nfin = 288\n",
       "Mgate9circuit1m2 out_gate9circuit1intermediate out_gate8circuit1 0 0 nmos_lvt nfin = 96\n",
       "Mgate9circuit1m3 out_gate9circuit1intermediate out_gate8circuit1 0 0 nmos_lvt nfin = 96\n",
       "Mgate9circuit1m4 out_gate9circuit1 out_gate9circuit1intermediate 0 0 nmos_lvt nfin = 96\n",
       "Mgate9circuit1m5 out_gate9circuit1 out_gate9circuit1intermediate vdd vdd pmos_lvt nfin = 144\n",
       "\n",
       "Mgate10circuit1m0 out_gate10circuit1intermediate out_gate9circuit1 vdd vdd pmos_lvt nfin = 105\n",
       "Mgate10circuit1m1 out_gate10circuit1intermediate out_gate9circuit1 vdd vdd pmos_lvt nfin = 105\n",
       "Mgate10circuit1m2 out_gate10circuit1intermediate out_gate9circuit1 gate10circuit1mid 0 nmos_lvt nfin = 140\n",
       "Mgate10circuit1m3 gate10circuit1mid out_gate9circuit1 0 0 nmos_lvt nfin = 140\n",
       "Mgate10circuit1m4 out_gate10circuit1 out_gate10circuit1intermediate 0 0 nmos_lvt nfin = 70\n",
       "Mgate10circuit1m5 out_gate10circuit1 out_gate10circuit1intermediate vdd vdd pmos_lvt nfin = 105\n",
       "\n",
       "Mcircuit1EOSm0 out_circuit1EOS out_gate10circuit1 vdd vdd pmos_lvt nfin = 81\n",
       "Mcircuit1EOSm1 out_circuit1EOS out_gate10circuit1 0 0 nmos_lvt nfin = 54\n",
       "\n",
       "Ccircuit1eos out_circuit1EOS 0 10f\n",
       "\n",
       "Vdd vdd 0 0.7\n",
       "\n",
       ".option post\n",
       ".tran 1p 2u\n",
       ".MEASURE TRAN tdlaycircuit1 TRIG V(out_v1circuit1driver) VAL = 0.35 TD = 0n RISE = 1 TARG V(out_gate10circuit1) VAL = 0.35  RISE = 1\n",
       ".end"
      ]
     },
     "execution_count": 7,
     "metadata": {},
     "output_type": "execute_result"
    }
   ],
   "source": [
    "graphs[0].idealized_circuit"
   ]
  },
  {
   "cell_type": "code",
   "execution_count": 11,
   "metadata": {},
   "outputs": [
    {
     "data": {
      "text/plain": [
       "/////////////////////3 STAGE NAND/////////////////////////////\n",
       ".inc \"/home/lalithsai20/EMDproject/7nm_TT_160803.pm\"\n",
       "\n",
       "V1CIRCUIT1 v1circuit1 0 pwl(0 0.7 0.9999us 0.7 1us 0 2us 0)\n",
       "Mv1circuit1driverm0 out_v1circuit1driver v1circuit1 vdd vdd pmos_lvt nfin = 84\n",
       "Mv1circuit1driverm1 out_v1circuit1driver v1circuit1 0 0 nmos_lvt nfin = 56\n",
       "\n",
       "V2CIRCUIT1 v2circuit1 0 pwl(0 0.7 0.9999us 0.7 1us 0 2us 0)\n",
       "Mv2circuit1driverm0 out_v2circuit1driver v2circuit1 vdd vdd pmos_lvt nfin = 105\n",
       "Mv2circuit1driverm1 out_v2circuit1driver v2circuit1 0 0 nmos_lvt nfin = 70\n",
       "\n",
       "Mgate1circuit1m0 out_gate1circuit1intermediate out_v1circuit1driver gate1circuit1mid vdd pmos_lvt nfin = 156\n",
       "Mgate1circuit1m1 gate1circuit1mid out_v2circuit1driver vdd vdd pmos_lvt nfin = 156\n",
       "Mgate1circuit1m2 out_gate1circuit1intermediate out_v1circuit1driver 0 0 nmos_lvt nfin = 52\n",
       "Mgate1circuit1m3 out_gate1circuit1intermediate out_v2circuit1driver 0 0 nmos_lvt nfin = 52\n",
       "Mgate1circuit1m4 out_gate1circuit1 out_gate1circuit1intermediate 0 0 nmos_lvt nfin = 52\n",
       "Mgate1circuit1m5 out_gate1circuit1 out_gate1circuit1intermediate vdd vdd pmos_lvt nfin = 78\n",
       "\n",
       "Mgate2circuit1m0 out_gate2circuit1intermediate out_gate1circuit1 vdd vdd pmos_lvt nfin = 51\n",
       "Mgate2circuit1m1 out_gate2circuit1intermediate out_gate1circuit1 vdd vdd pmos_lvt nfin = 51\n",
       "Mgate2circuit1m2 out_gate2circuit1intermediate out_gate1circuit1 gate2circuit1mid 0 nmos_lvt nfin = 68\n",
       "Mgate2circuit1m3 gate2circuit1mid out_gate1circuit1 0 0 nmos_lvt nfin = 68\n",
       "Mgate2circuit1m4 out_gate2circuit1 out_gate2circuit1intermediate 0 0 nmos_lvt nfin = 34\n",
       "Mgate2circuit1m5 out_gate2circuit1 out_gate2circuit1intermediate vdd vdd pmos_lvt nfin = 51\n",
       "\n",
       "Mgate3circuit1m0 out_gate3circuit1 out_gate2circuit1 gate3circuit1mid vdd pmos_lvt nfin = 270\n",
       "Mgate3circuit1m1 gate3circuit1mid out_gate2circuit1 vdd vdd pmos_lvt nfin = 270\n",
       "Mgate3circuit1m2 out_gate3circuit1 out_gate2circuit1 0 0 nmos_lvt nfin = 90\n",
       "Mgate3circuit1m3 out_gate3circuit1 out_gate2circuit1 0 0 nmos_lvt nfin = 90\n",
       "\n",
       "Mgate4circuit1m0 out_gate4circuit1 out_gate3circuit1 vdd vdd pmos_lvt nfin = 132\n",
       "Mgate4circuit1m1 out_gate4circuit1 out_gate3circuit1 vdd vdd pmos_lvt nfin = 132\n",
       "Mgate4circuit1m2 out_gate4circuit1 out_gate3circuit1 gate4circuit1mid 0 nmos_lvt nfin = 176\n",
       "Mgate4circuit1m3 gate4circuit1mid out_gate3circuit1 0 0 nmos_lvt nfin = 176\n",
       "\n",
       "Mgate5circuit1m0 out_gate5circuit1 out_gate4circuit1 vdd vdd pmos_lvt nfin = 81\n",
       "Mgate5circuit1m1 out_gate5circuit1 out_gate4circuit1 0 0 nmos_lvt nfin = 54\n",
       "\n",
       "Mgate6circuit1m0 out_gate6circuit1 out_gate5circuit1 vdd vdd pmos_lvt nfin = 81\n",
       "Mgate6circuit1m1 out_gate6circuit1 out_gate5circuit1 vdd vdd pmos_lvt nfin = 81\n",
       "Mgate6circuit1m2 out_gate6circuit1 out_gate5circuit1 gate6circuit1mid 0 nmos_lvt nfin = 108\n",
       "Mgate6circuit1m3 gate6circuit1mid out_gate5circuit1 0 0 nmos_lvt nfin = 108\n",
       "\n",
       "Mgate7circuit1m0 out_gate7circuit1 out_gate6circuit1 gate7circuit1mid vdd pmos_lvt nfin = 108\n",
       "Mgate7circuit1m1 gate7circuit1mid out_gate6circuit1 vdd vdd pmos_lvt nfin = 108\n",
       "Mgate7circuit1m2 out_gate7circuit1 out_gate6circuit1 0 0 nmos_lvt nfin = 36\n",
       "Mgate7circuit1m3 out_gate7circuit1 out_gate6circuit1 0 0 nmos_lvt nfin = 36\n",
       "\n",
       "Mgate8circuit1m0 out_gate8circuit1intermediate out_gate7circuit1 gate8circuit1mid vdd pmos_lvt nfin = 186\n",
       "Mgate8circuit1m1 gate8circuit1mid out_gate7circuit1 vdd vdd pmos_lvt nfin = 186\n",
       "Mgate8circuit1m2 out_gate8circuit1intermediate out_gate7circuit1 0 0 nmos_lvt nfin = 62\n",
       "Mgate8circuit1m3 out_gate8circuit1intermediate out_gate7circuit1 0 0 nmos_lvt nfin = 62\n",
       "Mgate8circuit1m4 out_gate8circuit1 out_gate8circuit1intermediate 0 0 nmos_lvt nfin = 62\n",
       "Mgate8circuit1m5 out_gate8circuit1 out_gate8circuit1intermediate vdd vdd pmos_lvt nfin = 93\n",
       "\n",
       "Mgate9circuit1m0 out_gate9circuit1 out_gate8circuit1 vdd vdd pmos_lvt nfin = 45\n",
       "Mgate9circuit1m1 out_gate9circuit1 out_gate8circuit1 0 0 nmos_lvt nfin = 30\n",
       "\n",
       "Mgate10circuit1m0 out_gate10circuit1 out_gate9circuit1 vdd vdd pmos_lvt nfin = 135\n",
       "Mgate10circuit1m1 out_gate10circuit1 out_gate9circuit1 vdd vdd pmos_lvt nfin = 135\n",
       "Mgate10circuit1m2 out_gate10circuit1 out_gate9circuit1 gate10circuit1mid 0 nmos_lvt nfin = 180\n",
       "Mgate10circuit1m3 gate10circuit1mid out_gate9circuit1 0 0 nmos_lvt nfin = 180\n",
       "\n",
       "Mgate11circuit1m0 out_gate11circuit1 out_gate10circuit1 vdd vdd pmos_lvt nfin = 69\n",
       "Mgate11circuit1m1 out_gate11circuit1 out_gate10circuit1 0 0 nmos_lvt nfin = 46\n",
       "\n",
       "Mgate12circuit1m0 out_gate12circuit1intermediate out_gate11circuit1 vdd vdd pmos_lvt nfin = 54\n",
       "Mgate12circuit1m1 out_gate12circuit1intermediate out_gate11circuit1 vdd vdd pmos_lvt nfin = 54\n",
       "Mgate12circuit1m2 out_gate12circuit1intermediate out_gate11circuit1 gate12circuit1mid 0 nmos_lvt nfin = 72\n",
       "Mgate12circuit1m3 gate12circuit1mid out_gate11circuit1 0 0 nmos_lvt nfin = 72\n",
       "Mgate12circuit1m4 out_gate12circuit1 out_gate12circuit1intermediate 0 0 nmos_lvt nfin = 36\n",
       "Mgate12circuit1m5 out_gate12circuit1 out_gate12circuit1intermediate vdd vdd pmos_lvt nfin = 54\n",
       "\n",
       "Mgate13circuit1m0 out_gate13circuit1 out_gate12circuit1 gate13circuit1mid vdd pmos_lvt nfin = 264\n",
       "Mgate13circuit1m1 gate13circuit1mid out_gate12circuit1 vdd vdd pmos_lvt nfin = 264\n",
       "Mgate13circuit1m2 out_gate13circuit1 out_gate12circuit1 0 0 nmos_lvt nfin = 88\n",
       "Mgate13circuit1m3 out_gate13circuit1 out_gate12circuit1 0 0 nmos_lvt nfin = 88\n",
       "\n",
       "Mgate14circuit1m0 out_gate14circuit1 out_gate13circuit1 vdd vdd pmos_lvt nfin = 36\n",
       "Mgate14circuit1m1 out_gate14circuit1 out_gate13circuit1 0 0 nmos_lvt nfin = 24\n",
       "\n",
       "Mgate15circuit1m0 out_gate15circuit1intermediate out_gate14circuit1 gate15circuit1mid vdd pmos_lvt nfin = 264\n",
       "Mgate15circuit1m1 gate15circuit1mid out_gate14circuit1 vdd vdd pmos_lvt nfin = 264\n",
       "Mgate15circuit1m2 out_gate15circuit1intermediate out_gate14circuit1 0 0 nmos_lvt nfin = 88\n",
       "Mgate15circuit1m3 out_gate15circuit1intermediate out_gate14circuit1 0 0 nmos_lvt nfin = 88\n",
       "Mgate15circuit1m4 out_gate15circuit1 out_gate15circuit1intermediate 0 0 nmos_lvt nfin = 88\n",
       "Mgate15circuit1m5 out_gate15circuit1 out_gate15circuit1intermediate vdd vdd pmos_lvt nfin = 132\n",
       "\n",
       "Mgate16circuit1m0 out_gate16circuit1intermediate out_gate15circuit1 vdd vdd pmos_lvt nfin = 81\n",
       "Mgate16circuit1m1 out_gate16circuit1intermediate out_gate15circuit1 vdd vdd pmos_lvt nfin = 81\n",
       "Mgate16circuit1m2 out_gate16circuit1intermediate out_gate15circuit1 gate16circuit1mid 0 nmos_lvt nfin = 108\n",
       "Mgate16circuit1m3 gate16circuit1mid out_gate15circuit1 0 0 nmos_lvt nfin = 108\n",
       "Mgate16circuit1m4 out_gate16circuit1 out_gate16circuit1intermediate 0 0 nmos_lvt nfin = 54\n",
       "Mgate16circuit1m5 out_gate16circuit1 out_gate16circuit1intermediate vdd vdd pmos_lvt nfin = 81\n",
       "\n",
       "Mgate17circuit1m0 out_gate17circuit1 out_gate16circuit1 vdd vdd pmos_lvt nfin = 45\n",
       "Mgate17circuit1m1 out_gate17circuit1 out_gate16circuit1 vdd vdd pmos_lvt nfin = 45\n",
       "Mgate17circuit1m2 out_gate17circuit1 out_gate16circuit1 gate17circuit1mid 0 nmos_lvt nfin = 60\n",
       "Mgate17circuit1m3 gate17circuit1mid out_gate16circuit1 0 0 nmos_lvt nfin = 60\n",
       "\n",
       "Mgate18circuit1m0 out_gate18circuit1intermediate out_gate17circuit1 vdd vdd pmos_lvt nfin = 144\n",
       "Mgate18circuit1m1 out_gate18circuit1intermediate out_gate17circuit1 vdd vdd pmos_lvt nfin = 144\n",
       "Mgate18circuit1m2 out_gate18circuit1intermediate out_gate17circuit1 gate18circuit1mid 0 nmos_lvt nfin = 192\n",
       "Mgate18circuit1m3 gate18circuit1mid out_gate17circuit1 0 0 nmos_lvt nfin = 192\n",
       "Mgate18circuit1m4 out_gate18circuit1 out_gate18circuit1intermediate 0 0 nmos_lvt nfin = 96\n",
       "Mgate18circuit1m5 out_gate18circuit1 out_gate18circuit1intermediate vdd vdd pmos_lvt nfin = 144\n",
       "\n",
       "Mgate19circuit1m0 out_gate19circuit1intermediate out_gate18circuit1 gate19circuit1mid vdd pmos_lvt nfin = 78\n",
       "Mgate19circuit1m1 gate19circuit1mid out_gate18circuit1 vdd vdd pmos_lvt nfin = 78\n",
       "Mgate19circuit1m2 out_gate19circuit1intermediate out_gate18circuit1 0 0 nmos_lvt nfin = 26\n",
       "Mgate19circuit1m3 out_gate19circuit1intermediate out_gate18circuit1 0 0 nmos_lvt nfin = 26\n",
       "Mgate19circuit1m4 out_gate19circuit1 out_gate19circuit1intermediate 0 0 nmos_lvt nfin = 26\n",
       "Mgate19circuit1m5 out_gate19circuit1 out_gate19circuit1intermediate vdd vdd pmos_lvt nfin = 39\n",
       "\n",
       "Mcircuit1EOSm0 out_circuit1EOS out_gate19circuit1 vdd vdd pmos_lvt nfin = 3\n",
       "Mcircuit1EOSm1 out_circuit1EOS out_gate19circuit1 0 0 nmos_lvt nfin = 2\n",
       "\n",
       "Ccircuit1eos out_circuit1EOS 0 10f\n",
       "\n",
       "Vdd vdd 0 0.7\n",
       "\n",
       ".option post\n",
       ".tran 1p 2u\n",
       ".MEASURE TRAN tdlaycircuit1 TRIG V(out_v1circuit1driver) VAL = 0.35 TD = 0n RISE = 1 TARG V(out_gate19circuit1) VAL = 0.35  FALL = 1\n",
       ".end"
      ]
     },
     "execution_count": 11,
     "metadata": {},
     "output_type": "execute_result"
    }
   ],
   "source": [
    "graphs[0].circuit"
   ]
  },
  {
   "cell_type": "code",
   "execution_count": 6,
   "metadata": {},
   "outputs": [],
   "source": [
    "# for graph in graphs:\n",
    "#     graph.save_graph_matrices(TRAIN_DATA_PATH+f\"/train_data/{graph.name}.npz\")\n",
    "\n",
    "# graphs[0].save_graph_matrices(TRAIN_DATA_PATH+f\"/train_data/{graphs[0].name}.npz\")"
   ]
  },
  {
   "cell_type": "code",
   "execution_count": 7,
   "metadata": {},
   "outputs": [],
   "source": [
    "for graph in graphs:\n",
    "    graph.save_adjacency_list_and_feature_matrix(TRAIN_DATA_PATH+f\"/train_data/{graph.name}.npz\")"
   ]
  },
  {
   "cell_type": "code",
   "execution_count": 8,
   "metadata": {},
   "outputs": [
    {
     "data": {
      "text/plain": [
       "(array([[ 0.,  1.,  0.,  0.,  0.,  0.,  0.,  0.,  0.,  0.,  0.,  0.,  0.,\n",
       "          0.,  0.,  0.,  0.],\n",
       "        [-1.,  0.,  1.,  0.,  0.,  0.,  0.,  0.,  0.,  0.,  0.,  0.,  0.,\n",
       "          0.,  0.,  0.,  0.],\n",
       "        [ 0., -1.,  0.,  1.,  0.,  0.,  0.,  0.,  0.,  0.,  0.,  0.,  0.,\n",
       "          0.,  0.,  0.,  0.],\n",
       "        [ 0.,  0., -1.,  0.,  1.,  0.,  0.,  0.,  0.,  0.,  0.,  0.,  0.,\n",
       "          0.,  0.,  0.,  0.],\n",
       "        [ 0.,  0.,  0., -1.,  0.,  1.,  0.,  0.,  0.,  0.,  0.,  0.,  0.,\n",
       "          0.,  0.,  0.,  0.],\n",
       "        [ 0.,  0.,  0.,  0., -1.,  0.,  1.,  0.,  0.,  0.,  0.,  0.,  0.,\n",
       "          0.,  0.,  0.,  0.],\n",
       "        [ 0.,  0.,  0.,  0.,  0., -1.,  0.,  1.,  0.,  0.,  0.,  0.,  0.,\n",
       "          0.,  0.,  0.,  0.],\n",
       "        [ 0.,  0.,  0.,  0.,  0.,  0., -1.,  0.,  1.,  0.,  0.,  0.,  0.,\n",
       "          0.,  0.,  0.,  0.],\n",
       "        [ 0.,  0.,  0.,  0.,  0.,  0.,  0., -1.,  0.,  1.,  0.,  0.,  0.,\n",
       "          0.,  0.,  0.,  0.],\n",
       "        [ 0.,  0.,  0.,  0.,  0.,  0.,  0.,  0., -1.,  0.,  1.,  0.,  0.,\n",
       "          0.,  0.,  0.,  0.],\n",
       "        [ 0.,  0.,  0.,  0.,  0.,  0.,  0.,  0.,  0., -1.,  0.,  1.,  0.,\n",
       "          0.,  0.,  0.,  0.],\n",
       "        [ 0.,  0.,  0.,  0.,  0.,  0.,  0.,  0.,  0.,  0., -1.,  0.,  1.,\n",
       "          0.,  0.,  0.,  0.],\n",
       "        [ 0.,  0.,  0.,  0.,  0.,  0.,  0.,  0.,  0.,  0.,  0., -1.,  0.,\n",
       "          1.,  0.,  0.,  0.],\n",
       "        [ 0.,  0.,  0.,  0.,  0.,  0.,  0.,  0.,  0.,  0.,  0.,  0., -1.,\n",
       "          0.,  1.,  0.,  0.],\n",
       "        [ 0.,  0.,  0.,  0.,  0.,  0.,  0.,  0.,  0.,  0.,  0.,  0.,  0.,\n",
       "         -1.,  0.,  1.,  0.],\n",
       "        [ 0.,  0.,  0.,  0.,  0.,  0.,  0.,  0.,  0.,  0.,  0.,  0.,  0.,\n",
       "          0., -1.,  0.,  1.],\n",
       "        [ 0.,  0.,  0.,  0.,  0.,  0.,  0.,  0.,  0.,  0.,  0.,  0.,  0.,\n",
       "          0.,  0., -1.,  0.]]),\n",
       " array([[ 0.,  2., 11., 42., 11.],\n",
       "        [ 1.,  1., 11., 42., 47.],\n",
       "        [ 2.,  0., 11., 42., 19.],\n",
       "        [ 3.,  4., 11., 42., 49.],\n",
       "        [ 4.,  1., 11., 42., 28.],\n",
       "        [ 5.,  2., 11., 42., 34.],\n",
       "        [ 6.,  1., 11., 42., 42.],\n",
       "        [ 7.,  2., 11., 42., 25.],\n",
       "        [ 8.,  2., 11., 42., 22.],\n",
       "        [ 9.,  4., 11., 42., 20.],\n",
       "        [10.,  1., 11., 42., 47.],\n",
       "        [11.,  0., 11., 42., 28.],\n",
       "        [12.,  1., 11., 42., 47.],\n",
       "        [13.,  3., 11., 42.,  3.],\n",
       "        [14.,  2., 11., 42.,  9.],\n",
       "        [15.,  4., 11., 42., 11.],\n",
       "        [16.,  1., 11., 42., 32.]]))"
      ]
     },
     "execution_count": 8,
     "metadata": {},
     "output_type": "execute_result"
    }
   ],
   "source": [
    "g = Graph(\"circuit1\", 25, 50)\n",
    "g.make_graph_matrices()"
   ]
  },
  {
   "cell_type": "code",
   "execution_count": 9,
   "metadata": {},
   "outputs": [
    {
     "data": {
      "text/plain": [
       "(array([[ 0,  1,  2,  3,  4,  5,  6,  7,  8,  9, 10, 11, 12, 13, 14, 15],\n",
       "        [ 1,  2,  3,  4,  5,  6,  7,  8,  9, 10, 11, 12, 13, 14, 15, 16]]),\n",
       " array([[ 0.,  2., 11., 42., 11.],\n",
       "        [ 1.,  1., 11., 42., 47.],\n",
       "        [ 2.,  0., 11., 42., 19.],\n",
       "        [ 3.,  4., 11., 42., 49.],\n",
       "        [ 4.,  1., 11., 42., 28.],\n",
       "        [ 5.,  2., 11., 42., 34.],\n",
       "        [ 6.,  1., 11., 42., 42.],\n",
       "        [ 7.,  2., 11., 42., 25.],\n",
       "        [ 8.,  2., 11., 42., 22.],\n",
       "        [ 9.,  4., 11., 42., 20.],\n",
       "        [10.,  1., 11., 42., 47.],\n",
       "        [11.,  0., 11., 42., 28.],\n",
       "        [12.,  1., 11., 42., 47.],\n",
       "        [13.,  3., 11., 42.,  3.],\n",
       "        [14.,  2., 11., 42.,  9.],\n",
       "        [15.,  4., 11., 42., 11.],\n",
       "        [16.,  1., 11., 42., 32.]]))"
      ]
     },
     "execution_count": 9,
     "metadata": {},
     "output_type": "execute_result"
    }
   ],
   "source": [
    "g.make_adjacency_list_and_feature_matrix()"
   ]
  },
  {
   "cell_type": "code",
   "execution_count": 10,
   "metadata": {},
   "outputs": [],
   "source": [
    "train_data = [ (np.load(TRAIN_DATA_PATH + f\"/train_data/circuit{i}.npz\")['adj_list'],  np.load(TRAIN_DATA_PATH + f\"/train_data/circuit{i}.npz\")['feature_matrix']) for i in range(1, 1000+1) ]"
   ]
  },
  {
   "cell_type": "code",
   "execution_count": 11,
   "metadata": {},
   "outputs": [
    {
     "data": {
      "text/plain": [
       "((2, 17), (18, 5))"
      ]
     },
     "execution_count": 11,
     "metadata": {},
     "output_type": "execute_result"
    }
   ],
   "source": [
    "i = 10\n",
    "train_data[i][0].shape, train_data[i][1].shape"
   ]
  },
  {
   "cell_type": "code",
   "execution_count": 12,
   "metadata": {},
   "outputs": [
    {
     "data": {
      "text/plain": [
       "array([[ 0,  1,  2,  3,  4,  5,  6,  7,  8,  9, 10, 11, 12, 13, 14, 15,\n",
       "        16],\n",
       "       [ 1,  2,  3,  4,  5,  6,  7,  8,  9, 10, 11, 12, 13, 14, 15, 16,\n",
       "        17]])"
      ]
     },
     "execution_count": 12,
     "metadata": {},
     "output_type": "execute_result"
    }
   ],
   "source": [
    "train_data[i][0]"
   ]
  },
  {
   "cell_type": "code",
   "execution_count": null,
   "metadata": {},
   "outputs": [],
   "source": []
  }
 ],
 "metadata": {
  "kernelspec": {
   "display_name": "venv",
   "language": "python",
   "name": "python3"
  },
  "language_info": {
   "codemirror_mode": {
    "name": "ipython",
    "version": 3
   },
   "file_extension": ".py",
   "mimetype": "text/x-python",
   "name": "python",
   "nbconvert_exporter": "python",
   "pygments_lexer": "ipython3",
   "version": "3.9.7"
  }
 },
 "nbformat": 4,
 "nbformat_minor": 2
}
