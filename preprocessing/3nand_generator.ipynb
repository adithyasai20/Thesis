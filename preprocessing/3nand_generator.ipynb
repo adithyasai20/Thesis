{
 "cells": [
  {
   "cell_type": "code",
   "execution_count": 1,
   "metadata": {},
   "outputs": [],
   "source": [
    "# Import statements\n",
    "import numpy as np\n",
    "import plotly\n",
    "import plotly.graph_objs as go\n",
    "import pandas as pd\n",
    "from dotenv import dotenv_values\n",
    "import plotly.graph_objects as go\n",
    "SECRETS = dotenv_values(\"../envs/.env\")\n"
   ]
  },
  {
   "cell_type": "code",
   "execution_count": 2,
   "metadata": {},
   "outputs": [],
   "source": [
    "TRAIN_DATA_PATH = SECRETS['TRAIN_DATA_PATH']\n",
    "TEST_DATA_PATH = SECRETS['TEST_DATA_PATH']\n",
    "PULL_UP_STRENGTH, PULL_DOWN_STRENGTH = list(map(int, SECRETS['BETA'].split(':')))\n",
    "NUM_SAMPLES = float(SECRETS['NUM_SAMPLES'])"
   ]
  },
  {
   "cell_type": "code",
   "execution_count": 3,
   "metadata": {},
   "outputs": [
    {
     "data": {
      "text/plain": [
       "'\\n\\nList of design paraeters in the hand of the circuit designer - \\n1. Drive strength of a gate (k) - integer [1, 50]\\n\\nList of other parameters which affect propagation delay but are not in the habnds of the circuit designer:\\n1. Load capacitance - float [10fF, 50fF]\\n2. input capacitance - float [10fF, 50fF]\\n\\nOutput parameters that I want to optimize:\\n1. Propagation delay - float will be calculated by simulator, order of magnitude [1ps, 20ps]\\n\\n'"
      ]
     },
     "execution_count": 3,
     "metadata": {},
     "output_type": "execute_result"
    }
   ],
   "source": [
    "\"\"\"\n",
    "\n",
    "List of design paraeters in the hand of the circuit designer - \n",
    "1. Drive strength of a gate (k) - integer [1, 50]\n",
    "\n",
    "List of other parameters which affect propagation delay but are not in the habnds of the circuit designer:\n",
    "1. Load capacitance - float [10fF, 50fF]\n",
    "2. input capacitance - float [10fF, 50fF]\n",
    "\n",
    "Output parameters that I want to optimize:\n",
    "1. Propagation delay - float will be calculated by simulator, order of magnitude [1ps, 20ps]\n",
    "\n",
    "\"\"\""
   ]
  },
  {
   "cell_type": "code",
   "execution_count": 5,
   "metadata": {},
   "outputs": [],
   "source": [
    "k0 = np.random.randint(low=1, high=50, size=int(NUM_SAMPLES))\n",
    "k1 = np.random.randint(low=1, high=50, size=int(NUM_SAMPLES))\n",
    "k2 = np.random.randint(low=1, high=50, size=int(NUM_SAMPLES))"
   ]
  },
  {
   "cell_type": "code",
   "execution_count": 7,
   "metadata": {},
   "outputs": [],
   "source": [
    "PD0, PU0 = k0*PULL_DOWN_STRENGTH, k0*PULL_UP_STRENGTH\n",
    "PD1, PU1 = k1*PULL_DOWN_STRENGTH, k1*PULL_UP_STRENGTH\n",
    "PD2, PU2 = k2*PULL_DOWN_STRENGTH, k2*PULL_UP_STRENGTH"
   ]
  },
  {
   "cell_type": "code",
   "execution_count": 10,
   "metadata": {},
   "outputs": [],
   "source": [
    "df_processed = pd.DataFrame({\"PD0\": PD0, \"PU0\": PU0, \"PD1\": PD1, \"PU1\": PU1, \"PD2\": PD2, \"PU2\": PU2})\n",
    "df_pre_processed = pd.DataFrame({\"k0\": k0, \"k1\": k1, \"k2\": k2})"
   ]
  },
  {
   "cell_type": "code",
   "execution_count": 13,
   "metadata": {},
   "outputs": [],
   "source": [
    "df_processed.to_csv(TRAIN_DATA_PATH+\"/3nand_processed_data.csv\", index=False)\n",
    "df_pre_processed.to_csv(TRAIN_DATA_PATH+\"/3nand_pre_processed_data.csv\", index=False)"
   ]
  },
  {
   "cell_type": "code",
   "execution_count": null,
   "metadata": {},
   "outputs": [],
   "source": []
  },
  {
   "cell_type": "code",
   "execution_count": null,
   "metadata": {},
   "outputs": [],
   "source": []
  },
  {
   "cell_type": "code",
   "execution_count": null,
   "metadata": {},
   "outputs": [],
   "source": []
  },
  {
   "cell_type": "code",
   "execution_count": null,
   "metadata": {},
   "outputs": [],
   "source": []
  }
 ],
 "metadata": {
  "kernelspec": {
   "display_name": "venv",
   "language": "python",
   "name": "python3"
  },
  "language_info": {
   "codemirror_mode": {
    "name": "ipython",
    "version": 3
   },
   "file_extension": ".py",
   "mimetype": "text/x-python",
   "name": "python",
   "nbconvert_exporter": "python",
   "pygments_lexer": "ipython3",
   "version": "3.9.7"
  }
 },
 "nbformat": 4,
 "nbformat_minor": 2
}
